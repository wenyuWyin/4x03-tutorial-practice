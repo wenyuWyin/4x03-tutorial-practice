{
 "cells": [
  {
   "cell_type": "markdown",
   "id": "fc43950c",
   "metadata": {},
   "source": [
    "# Tutorial 9"
   ]
  },
  {
   "cell_type": "markdown",
   "id": "3e94e55c",
   "metadata": {},
   "source": [
    "Consider the following definite integral numerically (not symbolically)：\n",
    "\n",
    "$ \\int_0^6 sin^2(x) dx $\n",
    "\n",
    "Note that\n",
    "\n",
    "$ \\int sin^2(x) dx = \\frac{x-sin(x)cos(x)}{2} + C $"
   ]
  },
  {
   "cell_type": "code",
   "execution_count": 6,
   "id": "327896ca-367d-492a-85ab-5ac638bb25ff",
   "metadata": {},
   "outputs": [
    {
     "data": {
      "text/plain": [
       "elapsed_time (generic function with 1 method)"
      ]
     },
     "metadata": {},
     "output_type": "display_data"
    }
   ],
   "source": [
    "# Define f(x) for entire notebook\n",
    "f(x) = sin(x)^2\n",
    "\n",
    "# Function for average elapsed time\n",
    "function elapsed_time(func, f, a, b, r, runs)\n",
    "    total = 0\n",
    "    result = func(f, 0, 6, 100)\n",
    "    for i in 1:runs\n",
    "        elapsedTime = @elapsed func(f, 0, 6, 100)\n",
    "        total += elapsedTime\n",
    "    end\n",
    "    return total / runs, result\n",
    "end"
   ]
  },
  {
   "cell_type": "markdown",
   "id": "52021952",
   "metadata": {},
   "source": [
    "1. Approximate the definite integral using Composite Trapezoidal Rule using 101 evenly-spaced points.\n",
    "    - What is the elapsed time of this computation (use the smallest # of computations possible) based on an average of 10+ runs?"
   ]
  },
  {
   "cell_type": "code",
   "execution_count": 7,
   "id": "73993643-4845-4c20-a798-6abeaace9669",
   "metadata": {},
   "outputs": [
    {
     "name": "stdout",
     "output_type": "stream",
     "text": [
      "Average elapsed time for 10 runs: 2.5300000000000003e-6\n",
      "3.133982218978209\n"
     ]
    }
   ],
   "source": [
    "# Question 1\n",
    "\n",
    "function composite_trapezoidal(f, a, b, r)\n",
    "    h = (b - a) / r\n",
    "    \n",
    "    # Factoring out h at the start\n",
    "    integral = 0.5 * (f(a) + f(b))\n",
    "    for i in 1:r-1\n",
    "        integral += f(a + i * h)\n",
    "    end\n",
    "    # Factored h\n",
    "    integral *= h\n",
    "    return integral\n",
    "end\n",
    "\n",
    "runs = 10\n",
    "elapsed, trap_res = elapsed_time(composite_trapezoidal, f, 0, 6, 100, runs)\n",
    "println(\"Average elapsed time for $(runs) runs: \", elapsed)\n",
    "println(trap_res)"
   ]
  },
  {
   "cell_type": "markdown",
   "id": "75b4363a",
   "metadata": {},
   "source": [
    "2. Approximate this integral using Composite (not adaptive) Simpson's Rule using 101 evenly-spaced points.\n",
    "    - What is the elapsed time of this computation (use the smallest # of computations possible) based on an average of 10+ runs?"
   ]
  },
  {
   "cell_type": "code",
   "execution_count": 8,
   "id": "9c32eb97-4904-4cea-ae26-db64ba773821",
   "metadata": {},
   "outputs": [
    {
     "name": "stdout",
     "output_type": "stream",
     "text": [
      "Average elapsed time for 10 runs: 3.21e-6\n",
      "3.134143384298425\n"
     ]
    }
   ],
   "source": [
    "# Question 2 \n",
    "\n",
    "function composite_simpson(f, a, b, r)\n",
    "    h = (b - a) / r\n",
    "\n",
    "    # Code from tutorial for comp. Simpson's\n",
    "    integral = (f(a) + f(b))\n",
    "    for i = 1:(div(r,2)-1) # floor divide\n",
    "        integral = integral + 2 * f(a + h*(2*i))\n",
    "    end\n",
    "    for i = 1:(div(r,2)) # floor divide\n",
    "        integral = integral + 4 * f(a + h*(2*i - 1))\n",
    "    end\n",
    "    integral *= (h/3)\n",
    "    return integral\n",
    "end\n",
    "\n",
    "runs = 10\n",
    "elapsed, simp_res = elapsed_time(composite_simpson, f, 0, 6, 100, runs)\n",
    "println(\"Average elapsed time for $(runs) runs: \", elapsed)\n",
    "println(simp_res)"
   ]
  },
  {
   "cell_type": "markdown",
   "id": "019468e7",
   "metadata": {},
   "source": [
    "3. Compute the errors for Steps 1 and 2 using your ground-truth result in Step 0 in Julia.\n",
    "    - What do you notice?"
   ]
  },
  {
   "cell_type": "code",
   "execution_count": null,
   "id": "34a52b72-bbef-4380-b7ce-57521e0a24e1",
   "metadata": {},
   "outputs": [
    {
     "name": "stdout",
     "output_type": "stream",
     "text": [
      "Error in Trapezoidal rule: 0.0001610105218996516\n",
      "Error in Simpson's rule: 1.547983163874278e-7\n",
      "\n",
      "The error in the Trapezoidal rule is larger. Simpsons rule is more computationally expensive.\n"
     ]
    }
   ],
   "source": [
    "# Question 3\n",
    "\n",
    "f_integral(x) = (x - sin(x) * cos(x))/2\n",
    "actual_integral = f_integral(6) - f_integral(0)\n",
    "\n",
    "trap_error = abs(trap_res - actual_integral)\n",
    "simp_error = abs(simp_res - actual_integral)\n",
    "\n",
    "println(\"Error in Trapezoidal rule: \", trap_error)\n",
    "println(\"Error in Simpson's rule: \", simp_error)\n",
    "println()\n",
    "println(\"The error in the Trapezoidal rule is larger, but Simpsons rule is more computationally expensive.\")"
   ]
  },
  {
   "cell_type": "markdown",
   "id": "22c662fc",
   "metadata": {},
   "source": [
    "**Note Trapezoidal takes longer to compute but Simpsons is more computationally expensive.**"
   ]
  }
 ],
 "metadata": {
  "kernelspec": {
   "display_name": "Julia 1.10.5",
   "language": "julia",
   "name": "julia-1.10"
  },
  "language_info": {
   "file_extension": ".jl",
   "mimetype": "application/julia",
   "name": "julia",
   "version": "1.10.5"
  }
 },
 "nbformat": 4,
 "nbformat_minor": 5
}
