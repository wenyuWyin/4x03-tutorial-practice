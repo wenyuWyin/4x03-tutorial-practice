{
 "cells": [
  {
   "cell_type": "markdown",
   "metadata": {},
   "source": [
    "# Tutorial 6"
   ]
  },
  {
   "cell_type": "markdown",
   "metadata": {},
   "source": [
    "Consider the following square matrix\n",
    "$$A = \\begin{bmatrix}\n",
    "   1 & 1 & 0 \\\\\n",
    "   0 & 1 & 1 \\\\\n",
    "   -1 & 1 & -1\n",
    "\\end{bmatrix}$$"
   ]
  },
  {
   "cell_type": "markdown",
   "metadata": {},
   "source": [
    "1. Find the SVD of A and $A^{-1}$ using Julia. How do you observe that the singular values of A and $A^{-1}$ are related? Justify this observation further using an informal proof for a matrix $A \\in \\mathbb{R}^{m \\times n}$. Remember that U and V are orthogonal matrics ($Q^{-1} = Q^T$)"
   ]
  },
  {
   "cell_type": "code",
   "execution_count": 7,
   "metadata": {},
   "outputs": [
    {
     "data": {
      "text/plain": [
       "3×3 Matrix{Float64}:\n",
       " -0.408248  0.57735   0.707107\n",
       " -0.408248  0.57735  -0.707107\n",
       "  0.816497  0.57735   1.25398e-16"
      ]
     },
     "metadata": {},
     "output_type": "display_data"
    },
    {
     "data": {
      "text/plain": [
       "3×3 Matrix{Float64}:\n",
       " 1.73205  0.0      0.0\n",
       " 0.0      1.73205  0.0\n",
       " 0.0      0.0      1.0"
      ]
     },
     "metadata": {},
     "output_type": "display_data"
    },
    {
     "data": {
      "text/plain": [
       "3×3 Matrix{Float64}:\n",
       " -0.707107  3.14018e-16  -0.707107\n",
       "  0.0       1.0           4.44089e-16\n",
       "  0.707107  3.14018e-16  -0.707107"
      ]
     },
     "metadata": {},
     "output_type": "display_data"
    },
    {
     "data": {
      "text/plain": [
       "3×3 Matrix{Float64}:\n",
       " -0.707107      0.57735  -0.408248\n",
       " -1.47284e-16  -0.57735  -0.816497\n",
       "  0.707107      0.57735  -0.408248"
      ]
     },
     "metadata": {},
     "output_type": "display_data"
    },
    {
     "data": {
      "text/plain": [
       "3×3 Matrix{Float64}:\n",
       " 1.0  0.0      0.0\n",
       " 0.0  0.57735  0.0\n",
       " 0.0  0.0      0.57735"
      ]
     },
     "metadata": {},
     "output_type": "display_data"
    },
    {
     "data": {
      "text/plain": [
       "3×3 Matrix{Float64}:\n",
       " -0.707107   0.707107     -9.61481e-17\n",
       " -0.0       -1.35974e-16  -1.0\n",
       " -0.707107  -0.707107      9.61481e-17"
      ]
     },
     "metadata": {},
     "output_type": "display_data"
    }
   ],
   "source": [
    "using LinearAlgebra;\n",
    "A = [1 1 0;\n",
    "    0 1 1;\n",
    "    -1 1 -1];\n",
    "\n",
    "U, S, V = svd(A);\n",
    "display(U);\n",
    "display(diagm(S));\n",
    "display(V')\n",
    "\n",
    "A_inv = inv(A);\n",
    "\n",
    "U_inv, S_inv, V_inv = svd(A_inv);\n",
    "display(U_inv);\n",
    "display(diagm(S_inv));\n",
    "display(V_inv')"
   ]
  },
  {
   "cell_type": "markdown",
   "metadata": {},
   "source": [
    "Justification/Proof:\n",
    "\n",
    "$$\n",
    "    A = U \\Sigma V^T \\\\\n",
    "    A^{-1} = V^{T^{-1}} \\Sigma^{-1} U^{-1}    \n",
    "$$\n",
    "\n",
    "Since V and U are orthogonal matrices, $V^T = V^{-1}$ and $U^T = U^{-1}$, then $A^{-1} = V \\Sigma^{-1} U^{T}$. We can conclude that the singular values for the inverse of A are the inverse of A's singular values. For a diagonal matrix, the inverse of it contains the reciprocals of each entry."
   ]
  },
  {
   "cell_type": "markdown",
   "metadata": {},
   "source": [
    "2. Compute |$det(A)$| in Julia without using the det() function or A itself, and justify your computation using an informal proof. Note that determinants of orthogonal matrices are either +1 or -1."
   ]
  },
  {
   "cell_type": "code",
   "execution_count": 10,
   "metadata": {},
   "outputs": [
    {
     "data": {
      "text/plain": [
       "-3.0"
      ]
     },
     "metadata": {},
     "output_type": "display_data"
    },
    {
     "name": "stdout",
     "output_type": "stream",
     "text": [
      "|det(A)| = 3.0000000000000018\n"
     ]
    }
   ],
   "source": [
    "det_A = det(A);\n",
    "display(det_A);\n",
    "\n",
    "abs_det_A = prod(S);\n",
    "println(\"|det(A)| = \", abs_det_A);"
   ]
  },
  {
   "cell_type": "markdown",
   "metadata": {},
   "source": [
    "Justification/Proof:\n",
    "\n",
    "Since U and V are orthogonal matrices, their determinants are both $\\pm$ 1. \n",
    "\n",
    "Additionally, det(A) = det(U) $\\cdot$ det($\\Sigma$) $\\cdot$ det($V^T$). We know det(A) = det($\\Sigma$). $\\Sigma$ is a diagonal matrix whose entries are the singular values of A (square root of eigenvalues), so the determinant of A can be calculated by multiplying the diagonal entries of $\\Sigma$ together."
   ]
  },
  {
   "cell_type": "markdown",
   "metadata": {},
   "source": []
  }
 ],
 "metadata": {
  "kernelspec": {
   "display_name": "Julia 1.10.5",
   "language": "julia",
   "name": "julia-1.10"
  },
  "language_info": {
   "file_extension": ".jl",
   "mimetype": "application/julia",
   "name": "julia",
   "version": "1.10.5"
  }
 },
 "nbformat": 4,
 "nbformat_minor": 2
}
